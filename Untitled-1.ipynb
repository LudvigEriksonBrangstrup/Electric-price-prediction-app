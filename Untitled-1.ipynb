{
 "cells": [
  {
   "cell_type": "code",
   "execution_count": null,
   "metadata": {},
   "outputs": [],
   "source": [
    "98210"
   ]
  },
  {
   "cell_type": "code",
   "execution_count": 3,
   "metadata": {},
   "outputs": [
    {
     "name": "stdout",
     "output_type": "stream",
     "text": [
      "Station list downloaded and saved.\n"
     ]
    }
   ],
   "source": [
    "import requests\n",
    "\n",
    "# Endpoint for fetching the list of meteorological stations\n",
    "url = \"https://opendata-download-metobs.smhi.se/api/version/latest/parameter/1.json\"\n",
    "\n",
    "response = requests.get(url)\n",
    "stations_data = response.json()\n",
    "\n",
    "\n",
    "\n",
    "print(\"Station list downloaded and saved.\")\n"
   ]
  },
  {
   "cell_type": "code",
   "execution_count": null,
   "metadata": {},
   "outputs": [],
   "source": [
    "import requests\n",
    "\n",
    "# Replace 'station_id' with the actual ID for Stockholm\n",
    "station_id = 'station_id_for_Stockholm'\n",
    "# API endpoint for temperature observations\n",
    "url = f\"https://opendata-download-metobs.smhi.se/api/version/latest/parameter/1/station/{station_id}/period/corrected-archive/data.json\"\n",
    "\n",
    "response = requests.get(url)\n",
    "data = response.json()\n",
    "\n",
    "# Saving the data to a JSON file\n",
    "with open('stockholm_temperature_data.json', 'w') as file:\n",
    "    json.dump(data, file)\n",
    "\n",
    "print(\"Data downloaded and saved.\")\n"
   ]
  }
 ],
 "metadata": {
  "kernelspec": {
   "display_name": "Python 3",
   "language": "python",
   "name": "python3"
  },
  "language_info": {
   "codemirror_mode": {
    "name": "ipython",
    "version": 3
   },
   "file_extension": ".py",
   "mimetype": "text/x-python",
   "name": "python",
   "nbconvert_exporter": "python",
   "pygments_lexer": "ipython3",
   "version": "3.12.1"
  }
 },
 "nbformat": 4,
 "nbformat_minor": 2
}
